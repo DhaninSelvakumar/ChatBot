{
 "cells": [
  {
   "cell_type": "code",
   "execution_count": 8,
   "id": "14465dfe",
   "metadata": {},
   "outputs": [],
   "source": [
    "import torch\n",
    "from transformers import AutoModelForCausalLM, AutoTokenizer, BitsAndBytesConfig\n",
    "from fastapi import FastAPI\n",
    "from pydantic import BaseModel\n",
    "import nest_asyncio, uvicorn\n"
   ]
  },
  {
   "cell_type": "code",
   "execution_count": 9,
   "id": "7217b9b3",
   "metadata": {},
   "outputs": [],
   "source": [
    "model_id = \"TinyLlama/TinyLlama-1.1B-Chat-v1.0\"\n",
    "tok = AutoTokenizer.from_pretrained(model_id)\n"
   ]
  },
  {
   "cell_type": "code",
   "execution_count": 10,
   "id": "abc05109",
   "metadata": {},
   "outputs": [
    {
     "name": "stdout",
     "output_type": "stream",
     "text": [
      "Using device: cuda, dtype: torch.float16\n"
     ]
    }
   ],
   "source": [
    "if torch.cuda.is_available():\n",
    "    device = \"cuda\"\n",
    "    dtype = torch.float16\n",
    "    bnb_config = BitsAndBytesConfig(\n",
    "        load_in_4bit=True,\n",
    "        bnb_4bit_use_double_quant=True,\n",
    "        bnb_4bit_quant_type=\"nf4\",\n",
    "        bnb_4bit_compute_dtype=dtype,\n",
    "    )\n",
    "else:\n",
    "    device = \"cpu\"\n",
    "    dtype = torch.float32\n",
    "    bnb_config = None\n",
    "\n",
    "print(f\"Using device: {device}, dtype: {dtype}\")\n"
   ]
  },
  {
   "cell_type": "code",
   "execution_count": 11,
   "id": "4731a1ce",
   "metadata": {},
   "outputs": [
    {
     "name": "stdout",
     "output_type": "stream",
     "text": [
      "✅ Model loaded on CUDA with 4-bit quantization\n"
     ]
    }
   ],
   "source": [
    "# Force CUDA usage (since you have it installed)\n",
    "dtype = torch.float16\n",
    "\n",
    "bnb_config = BitsAndBytesConfig(\n",
    "    load_in_4bit=True,\n",
    "    bnb_4bit_use_double_quant=True,\n",
    "    bnb_4bit_quant_type=\"nf4\",\n",
    "    bnb_4bit_compute_dtype=dtype,\n",
    ")\n",
    "\n",
    "model = AutoModelForCausalLM.from_pretrained(\n",
    "    model_id,\n",
    "    device_map=\"cuda\",          # force to use GPU\n",
    "    torch_dtype=dtype,          # float16 for efficiency\n",
    "    quantization_config=bnb_config,\n",
    ")\n",
    "\n",
    "print(\"✅ Model loaded on CUDA with 4-bit quantization\")\n"
   ]
  },
  {
   "cell_type": "code",
   "execution_count": 12,
   "id": "e05a2a33",
   "metadata": {},
   "outputs": [
    {
     "name": "stdout",
     "output_type": "stream",
     "text": [
      "2.5.1+cu121\n",
      "12.1\n",
      "True\n",
      "NVIDIA GeForce GTX 1650\n"
     ]
    }
   ],
   "source": [
    "import torch\n",
    "print(torch.__version__)         # should show +cu121\n",
    "print(torch.version.cuda)        # should say 12.1\n",
    "print(torch.cuda.is_available()) # should be True\n",
    "print(torch.cuda.get_device_name(0))\n"
   ]
  },
  {
   "cell_type": "code",
   "execution_count": 13,
   "id": "669e3339",
   "metadata": {},
   "outputs": [],
   "source": [
    "app = FastAPI()\n",
    "\n",
    "class Query(BaseModel):\n",
    "    prompt: str\n",
    "\n",
    "@app.post(\"/generate\")\n",
    "def generate_text(q: Query):\n",
    "    prompt = f\"<|system|>You are a helpful assistant.<|user|>{q.prompt}<|assistant|>\"\n",
    "    inputs = tok(prompt, return_tensors=\"pt\").to(model.device)\n",
    "\n",
    "    output_tokens = model.generate(\n",
    "        **inputs,\n",
    "        max_new_tokens=200,\n",
    "        do_sample=True,\n",
    "        temperature=0.7,\n",
    "        top_p=0.9,\n",
    "    )\n",
    "\n",
    "    response = tok.decode(output_tokens[0], skip_special_tokens=True)\n",
    "    if \"<|assistant|>\" in response:\n",
    "        response = response.split(\"<|assistant|>\")[-1].strip()\n",
    "\n",
    "    return {\"response\": response}\n"
   ]
  },
  {
   "cell_type": "code",
   "execution_count": 14,
   "id": "53e5bd5f",
   "metadata": {},
   "outputs": [
    {
     "name": "stderr",
     "output_type": "stream",
     "text": [
      "INFO:     Started server process [17792]\n",
      "INFO:     Waiting for application startup.\n",
      "INFO:     Application startup complete.\n",
      "INFO:     Uvicorn running on http://0.0.0.0:8000 (Press CTRL+C to quit)\n"
     ]
    },
    {
     "name": "stdout",
     "output_type": "stream",
     "text": [
      "INFO:     127.0.0.1:58054 - \"POST /generate HTTP/1.1\" 200 OK\n",
      "INFO:     127.0.0.1:58337 - \"POST /generate HTTP/1.1\" 200 OK\n",
      "INFO:     127.0.0.1:58515 - \"POST /generate HTTP/1.1\" 200 OK\n",
      "INFO:     127.0.0.1:58650 - \"POST /generate HTTP/1.1\" 200 OK\n",
      "INFO:     127.0.0.1:58934 - \"POST /generate HTTP/1.1\" 200 OK\n",
      "INFO:     127.0.0.1:59093 - \"POST /generate HTTP/1.1\" 200 OK\n",
      "INFO:     127.0.0.1:59240 - \"POST /generate HTTP/1.1\" 200 OK\n",
      "INFO:     127.0.0.1:59310 - \"POST /generate HTTP/1.1\" 200 OK\n",
      "INFO:     127.0.0.1:59348 - \"POST /generate HTTP/1.1\" 200 OK\n",
      "INFO:     127.0.0.1:59420 - \"POST /generate HTTP/1.1\" 200 OK\n",
      "INFO:     127.0.0.1:59454 - \"POST /generate HTTP/1.1\" 200 OK\n",
      "INFO:     127.0.0.1:59502 - \"POST /generate HTTP/1.1\" 200 OK\n"
     ]
    },
    {
     "name": "stderr",
     "output_type": "stream",
     "text": [
      "INFO:     Shutting down\n",
      "INFO:     Waiting for application shutdown.\n",
      "INFO:     Application shutdown complete.\n",
      "INFO:     Finished server process [17792]\n"
     ]
    }
   ],
   "source": [
    "nest_asyncio.apply()  # allow running inside Jupyter\n",
    "\n",
    "uvicorn.run(app, host=\"0.0.0.0\", port=8000)\n"
   ]
  },
  {
   "cell_type": "code",
   "execution_count": null,
   "id": "763a4cd2",
   "metadata": {},
   "outputs": [],
   "source": []
  }
 ],
 "metadata": {
  "kernelspec": {
   "display_name": "llm (env)",
   "language": "python",
   "name": "llmenv"
  },
  "language_info": {
   "codemirror_mode": {
    "name": "ipython",
    "version": 3
   },
   "file_extension": ".py",
   "mimetype": "text/x-python",
   "name": "python",
   "nbconvert_exporter": "python",
   "pygments_lexer": "ipython3",
   "version": "3.12.6"
  }
 },
 "nbformat": 4,
 "nbformat_minor": 5
}
